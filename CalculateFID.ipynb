{
 "cells": [
  {
   "cell_type": "code",
   "execution_count": 119,
   "metadata": {},
   "outputs": [],
   "source": [
    "# import necessary packages\n",
    "import pickle as pkl\n",
    "import numpy as np\n",
    "import matplotlib.pyplot as plt\n",
    "from numpy import asarray\n",
    "from numpy.random import shuffle\n",
    "from numpy import cov\n",
    "from numpy import trace\n",
    "from numpy import iscomplexobj\n",
    "from scipy.linalg import sqrtm\n",
    "from keras.applications.inception_v3 import InceptionV3\n",
    "from keras.applications.inception_v3 import preprocess_input\n",
    "from skimage.transform import resize\n",
    "from torchvision import transforms, datasets"
   ]
  },
  {
   "cell_type": "code",
   "execution_count": 120,
   "metadata": {},
   "outputs": [],
   "source": [
    "# scale an array of images to a new size\n",
    "def scale_images(images, new_shape):\n",
    "    images_list = list()\n",
    "    for image in images:\n",
    "        # resize images\n",
    "        new_image = resize(image, new_shape, 0)\n",
    "        # append resized images to list\n",
    "        images_list.append(new_image)\n",
    "    return asarray(images_list)"
   ]
  },
  {
   "cell_type": "code",
   "execution_count": 121,
   "metadata": {},
   "outputs": [],
   "source": [
    "# calculate frechet inception distance between two groups of images against a model's calculations\n",
    "def calculate_fid(model, images1, images2):\n",
    "    # calculate activations\n",
    "    act1 = model.predict(images1)\n",
    "    act2 = model.predict(images2)\n",
    "\n",
    "    # calculate mean and covariance statistics\n",
    "    mu1, sigma1 = act1.mean(axis=0), cov(act1, rowvar=False)\n",
    "    mu2, sigma2 = act2.mean(axis=0), cov(act2, rowvar=False)\n",
    "\n",
    "    # calculate sum squared difference between means\n",
    "    ssdiff = np.sum((mu1 - mu2)**2.0)\n",
    "    \n",
    "    # calculate sqrt of product between cov\n",
    "    covmean = sqrtm(sigma1.dot(sigma2))\n",
    "    \n",
    "    # check and correct imaginary numbers from sqrt\n",
    "    if iscomplexobj(covmean):\n",
    "        covmean = covmean.real\n",
    "        \n",
    "    # calculate FID score\n",
    "    fid = ssdiff + trace(sigma1 + sigma2 - 2.0 * covmean)\n",
    "    return fid"
   ]
  },
  {
   "cell_type": "code",
   "execution_count": 122,
   "metadata": {},
   "outputs": [],
   "source": [
    "# load the generated images from our generated pickle file\n",
    "with open('train_samples_500ep_beta1_0.3.pkl', 'rb') as f:\n",
    "    samples = pkl.load(f)"
   ]
  },
  {
   "cell_type": "code",
   "execution_count": 123,
   "metadata": {},
   "outputs": [],
   "source": [
    "# prepare the inception v3 model\n",
    "model = InceptionV3(include_top=False, pooling='avg', input_shape=(299,299,3))\n",
    "\n",
    "# Apply the transformations to our dataset\n",
    "data_dir = 'dataset/'\n",
    "img_size = 32\n",
    "transform = transforms.Compose([transforms.Resize(img_size), transforms.ToTensor()])\n",
    "\n",
    "# Load our MET paintings dataset\n",
    "met_data = datasets.ImageFolder(data_dir, transform=transform)"
   ]
  },
  {
   "cell_type": "code",
   "execution_count": 124,
   "metadata": {},
   "outputs": [
    {
     "name": "stdout",
     "output_type": "stream",
     "text": [
      "[0.6850606655841909, 6]\n"
     ]
    }
   ],
   "source": [
    "def calc_FID_score(i):\n",
    "    # Set real_images to np arrays representing tensors of our whole dataset\n",
    "    real_images = []\n",
    "    for tensor, _ in met_data:\n",
    "        img = np.array(tensor)\n",
    "        img = np.transpose(img, (1,2,0))\n",
    "        real_images.append(img)\n",
    "    real_images = np.asarray(real_images)\n",
    "\n",
    "    # shuffle real_images so the FID is calculated against randomly chosen images in the dataset\n",
    "    shuffle(real_images)\n",
    "\n",
    "    # Set generated_images to np arrays representing tensors of our generated paintings\n",
    "    generated_images = []\n",
    "    # samples[-1] represents the images generated from our last epoch\n",
    "    for s in samples[i]:\n",
    "        s = (s.detach().numpy())\n",
    "        s = np.transpose(s, (1,2,0))\n",
    "        generated_images.append(s)\n",
    "    generated_images = np.asarray(generated_images)\n",
    "\n",
    "    # take as many real images as the number of generated images\n",
    "    real_images = real_images[:len(generated_images)]\n",
    "    #print('Loaded', real_images.shape, generated_images.shape)\n",
    "\n",
    "    # convert integer to floating point values\n",
    "    real_images = real_images.astype('float32')\n",
    "    generated_images = generated_images.astype('float32')\n",
    "\n",
    "    # resize all images to (299,299,3)\n",
    "    real_images = scale_images(real_images, (299,299,3))\n",
    "    generated_images = scale_images(generated_images, (299,299,3))\n",
    "    #print('Scaled', real_images.shape, generated_images.shape)\n",
    "\n",
    "    # pre-process images to compare to the model\n",
    "    real_images = preprocess_input(real_images)\n",
    "    generated_images = preprocess_input(generated_images)\n",
    "\n",
    "    # calculate fid\n",
    "    fid = calculate_fid(model, real_images, generated_images)\n",
    "    #print('FID: %.3f' % fid)\n",
    "    return fid\n",
    "\n",
    "min_ = [float('inf'), -1]\n",
    "FID_scores = []\n",
    "for i in range(len(samples)):\n",
    "    curr_score = calc_FID_score(i)\n",
    "    if curr_score < min_[0]:\n",
    "        min_ = [curr_score,i]\n",
    "    FID_scores.append(curr_score)\n",
    "print(min_)"
   ]
  },
  {
   "cell_type": "code",
   "execution_count": 125,
   "metadata": {},
   "outputs": [
    {
     "data": {
      "text/plain": [
       "[<matplotlib.lines.Line2D at 0x7fd1ebd1a1c0>]"
      ]
     },
     "execution_count": 125,
     "metadata": {},
     "output_type": "execute_result"
    },
    {
     "data": {
      "image/png": "[encoded data removed]",
      "text/plain": [
       "<Figure size 432x288 with 1 Axes>"
      ]
     },
     "metadata": {
      "needs_background": "light"
     },
     "output_type": "display_data"
    }
   ],
   "source": [
    "plt.plot(FID_scores)"
   ]
  },
  {
   "cell_type": "code",
   "execution_count": 126,
   "metadata": {},
   "outputs": [
    {
     "name": "stdout",
     "output_type": "stream",
     "text": [
      "4.0134051896170515 1.3244974673312093\n"
     ]
    }
   ],
   "source": [
    "mean = np.mean(FID_scores)\n",
    "std = np.std(FID_scores)\n",
    "print(mean, std)"
   ]
  }
 ],
 "metadata": {
  "kernelspec": {
   "display_name": "Python 3",
   "language": "python",
   "name": "python3"
  },
  "language_info": {
   "codemirror_mode": {
    "name": "ipython",
    "version": 3
   },
   "file_extension": ".py",
   "mimetype": "text/x-python",
   "name": "python",
   "nbconvert_exporter": "python",
   "pygments_lexer": "ipython3",
   "version": "3.8.5"
  }
 },
 "nbformat": 4,
 "nbformat_minor": 4
}
