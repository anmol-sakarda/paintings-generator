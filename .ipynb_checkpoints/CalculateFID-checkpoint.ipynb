{
 "cells": [
  {
   "cell_type": "code",
   "execution_count": 70,
   "metadata": {},
   "outputs": [],
   "source": [
    "# import necessary packages\n",
    "import pickle as pkl\n",
    "import numpy as np\n",
    "from numpy import asarray\n",
    "from numpy.random import shuffle\n",
    "from numpy import cov\n",
    "from numpy import trace\n",
    "from numpy import iscomplexobj\n",
    "from scipy.linalg import sqrtm\n",
    "from keras.applications.inception_v3 import InceptionV3\n",
    "from keras.applications.inception_v3 import preprocess_input\n",
    "from skimage.transform import resize\n",
    "from torchvision import transforms, datasets"
   ]
  },
  {
   "cell_type": "code",
   "execution_count": 71,
   "metadata": {},
   "outputs": [],
   "source": [
    "# scale an array of images to a new size\n",
    "def scale_images(images, new_shape):\n",
    "    images_list = list()\n",
    "    for image in images:\n",
    "        # resize images\n",
    "        new_image = resize(image, new_shape, 0)\n",
    "        # append resized images to list\n",
    "        images_list.append(new_image)\n",
    "    return asarray(images_list)"
   ]
  },
  {
   "cell_type": "code",
   "execution_count": 72,
   "metadata": {},
   "outputs": [],
   "source": [
    "# calculate frechet inception distance between two groups of images against a model's calculations\n",
    "def calculate_fid(model, images1, images2):\n",
    "    # calculate activations\n",
    "    act1 = model.predict(images1)\n",
    "    act2 = model.predict(images2)\n",
    "\n",
    "    # calculate mean and covariance statistics\n",
    "    mu1, sigma1 = act1.mean(axis=0), cov(act1, rowvar=False)\n",
    "    mu2, sigma2 = act2.mean(axis=0), cov(act2, rowvar=False)\n",
    "\n",
    "    # calculate sum squared difference between means\n",
    "    ssdiff = np.sum((mu1 - mu2)**2.0)\n",
    "    \n",
    "    # calculate sqrt of product between cov\n",
    "    covmean = sqrtm(sigma1.dot(sigma2))\n",
    "    \n",
    "    # check and correct imaginary numbers from sqrt\n",
    "    if iscomplexobj(covmean):\n",
    "        covmean = covmean.real\n",
    "        \n",
    "    # calculate FID score\n",
    "    fid = ssdiff + trace(sigma1 + sigma2 - 2.0 * covmean)\n",
    "    return fid"
   ]
  },
  {
   "cell_type": "code",
   "execution_count": 73,
   "metadata": {},
   "outputs": [],
   "source": [
    "# load the generated images from our generated pickle file\n",
    "with open('train_samples_100epochs.pkl', 'rb') as f:\n",
    "    samples = pkl.load(f)"
   ]
  },
  {
   "cell_type": "code",
   "execution_count": 74,
   "metadata": {},
   "outputs": [],
   "source": [
    "# prepare the inception v3 model\n",
    "model = InceptionV3(include_top=False, pooling='avg', input_shape=(299,299,3))\n",
    "\n",
    "# Apply the transformations to our dataset\n",
    "data_dir = 'image_folder/'\n",
    "img_size = 32\n",
    "transform = transforms.Compose([transforms.Resize(img_size), transforms.ToTensor()])\n",
    "\n",
    "# Load our MET paintings dataset\n",
    "met_data = datasets.ImageFolder(data_dir, transform=transform)"
   ]
  },
  {
   "cell_type": "code",
   "execution_count": 75,
   "metadata": {},
   "outputs": [
    {
     "name": "stdout",
     "output_type": "stream",
     "text": [
      "Loaded (32, 32, 32, 3) (32, 32, 32, 3)\n",
      "Scaled (32, 299, 299, 3) (32, 299, 299, 3)\n",
      "WARNING:tensorflow:5 out of the last 9 calls to <function Model.make_predict_function.<locals>.predict_function at 0x7fd8932e0670> triggered tf.function retracing. Tracing is expensive and the excessive number of tracings could be due to (1) creating @tf.function repeatedly in a loop, (2) passing tensors with different shapes, (3) passing Python objects instead of tensors. For (1), please define your @tf.function outside of the loop. For (2), @tf.function has experimental_relax_shapes=True option that relaxes argument shapes that can avoid unnecessary retracing. For (3), please refer to https://www.tensorflow.org/tutorials/customization/performance#python_or_tensor_args and https://www.tensorflow.org/api_docs/python/tf/function for  more details.\n",
      "FID: 4.332\n"
     ]
    }
   ],
   "source": [
    "# Set real_images to np arrays representing tensors of our whole dataset\n",
    "real_images = []\n",
    "for tensor, _ in met_data:\n",
    "    img = np.array(tensor)\n",
    "    img = np.transpose(img, (1,2,0))\n",
    "    real_images.append(img)\n",
    "real_images = np.asarray(real_images)\n",
    "\n",
    "# shuffle real_images so the FID is calculated against randomly chosen images in the dataset\n",
    "shuffle(real_images)\n",
    "\n",
    "# Set generated_images to np arrays representing tensors of our generated paintings\n",
    "generated_images = []\n",
    "# samples[-1] represents the images generated from our last epoch\n",
    "for s in samples[-1]:\n",
    "    s = (s.detach().numpy())\n",
    "    s = np.transpose(s, (1,2,0))\n",
    "    generated_images.append(s)\n",
    "generated_images = np.asarray(generated_images)\n",
    "\n",
    "# take as many real images as the number of generated images\n",
    "real_images = real_images[:len(generated_images)]\n",
    "print('Loaded', real_images.shape, generated_images.shape)\n",
    "\n",
    "# convert integer to floating point values\n",
    "real_images = real_images.astype('float32')\n",
    "generated_images = generated_images.astype('float32')\n",
    "\n",
    "# resize all images to (299,299,3)\n",
    "real_images = scale_images(real_images, (299,299,3))\n",
    "generated_images = scale_images(generated_images, (299,299,3))\n",
    "print('Scaled', real_images.shape, generated_images.shape)\n",
    "\n",
    "# pre-process images to compare to the model\n",
    "real_images = preprocess_input(real_images)\n",
    "generated_images = preprocess_input(generated_images)\n",
    "\n",
    "# calculate fid\n",
    "fid = calculate_fid(model, real_images, generated_images)\n",
    "print('FID: %.3f' % fid)"
   ]
  }
 ],
 "metadata": {
  "kernelspec": {
   "display_name": "Python 3",
   "language": "python",
   "name": "python3"
  },
  "language_info": {
   "codemirror_mode": {
    "name": "ipython",
    "version": 3
   },
   "file_extension": ".py",
   "mimetype": "text/x-python",
   "name": "python",
   "nbconvert_exporter": "python",
   "pygments_lexer": "ipython3",
   "version": "3.8.5"
  }
 },
 "nbformat": 4,
 "nbformat_minor": 4
}
